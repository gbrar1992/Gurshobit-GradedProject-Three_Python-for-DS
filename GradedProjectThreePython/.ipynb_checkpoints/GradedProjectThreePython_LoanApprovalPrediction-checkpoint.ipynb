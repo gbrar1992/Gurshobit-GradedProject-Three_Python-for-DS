{
 "cells": [
  {
   "cell_type": "markdown",
   "id": "2d87fd43",
   "metadata": {},
   "source": [
    "### Domain:\n",
    "**Finance and Banking.**"
   ]
  },
  {
   "cell_type": "markdown",
   "id": "111aaa29",
   "metadata": {},
   "source": [
    "#### Context:\n",
    "Dream Housing Finance company deals in all home loans. They have presence across all urban, semi urban and rural areas. Customers first apply for a home loan after that company manually validates the customer eligibility for loan. \n",
    "Company wants to automate the loan eligibility process based on customer detail provided while filling the details online. \n",
    "They need a web application where a user can access their website and register, login, and enter the required details such as Gender, Marital Status, Education, Number of Dependents, Income, Loan Amount, Credit History and others for checking the eligibility for the home loan."
   ]
  },
  {
   "cell_type": "markdown",
   "id": "19dd9e70",
   "metadata": {},
   "source": [
    "**Project Objective:**\n",
    " 1. This is a standard supervised classification task. A classification problem where we have to predict whether a customer is eligible for loan or not based on a given set of independent variable(s).\n",
    " 2. To build a Python Flask ML application where a user has to get registered by entering the username and password and login to the website and then enter their details to check whether they are eligible for loan or not."
   ]
  },
  {
   "cell_type": "markdown",
   "id": "f4e90513",
   "metadata": {},
   "source": [
    "**Dataset Description:**\n",
    "- **Loan ID**: Unique Loan ID\n",
    "- **Gender**: Male or Female \n",
    "- **Married**: Applicant married (Y/N)\n",
    "- **Dependents**: Number of dependents\n",
    "- **Self employed**: Self employed (Y/N)\n",
    "- **Education**: Graduate/Undergraduate\n",
    "- **Applicant Income**: Applicant income (in dollars)\n",
    "- **Co Applicant Income**: Co Applicant Income (in dollars)\n",
    "- **Loan Amount**: Loan amount in thousands (in dollars)\n",
    "- **Loan Amount Term**: Term of loan in months\n",
    "- **Credit History**: Credit history meets guidelines Yes/No(1/0)\n",
    "- **Property area**: Urban/Semi Urban/Rural\n",
    "- **Loan Status(Target)**: Loan Approved (Y/N)"
   ]
  },
  {
   "cell_type": "markdown",
   "id": "77be2657",
   "metadata": {},
   "source": [
    "### 1. Import required libraries"
   ]
  },
  {
   "cell_type": "code",
   "execution_count": null,
   "id": "0d7e9b04",
   "metadata": {},
   "outputs": [],
   "source": [
    "import numpy as np\n",
    "import pandas as pd\n",
    "import matplotlib.pyplot as plt\n",
    "import seaborn as sns\n",
    "import warnings\n",
    "warnings.filterwarnings('ignore')\n",
    "from sklearn.preprocessing import StandardScaler\n",
    "from sklearn.preprocessing import LabelEncoder\n",
    "from sklearn.model_selection import train_test_split\n",
    "from sklearn.ensemble import RandomForestRegressor\n",
    "from sklearn.metrics import accuracy_score, confusion_matrix\n",
    "import datetime"
   ]
  },
  {
   "cell_type": "markdown",
   "id": "cb3f5caa",
   "metadata": {},
   "source": [
    "### 2. Load the dataset"
   ]
  },
  {
   "cell_type": "code",
   "execution_count": null,
   "id": "f1f74290",
   "metadata": {},
   "outputs": [],
   "source": [
    "# Reading and loading the dataset\n",
    "dataFrame = pd.read_csv('loan_approval_data.csv')\n",
    "dataFrame.head(5)"
   ]
  },
  {
   "cell_type": "code",
   "execution_count": null,
   "id": "76b7d733",
   "metadata": {},
   "outputs": [],
   "source": [
    "dataFrame.tail(5)"
   ]
  },
  {
   "cell_type": "markdown",
   "id": "6c73eb67",
   "metadata": {},
   "source": [
    "### 3. Check the shape and basic information of the dataset."
   ]
  },
  {
   "cell_type": "code",
   "execution_count": null,
   "id": "5bc56e00",
   "metadata": {},
   "outputs": [],
   "source": [
    "## check the shape \n",
    "dataFrame.shape"
   ]
  },
  {
   "cell_type": "code",
   "execution_count": null,
   "id": "9832eac8",
   "metadata": {},
   "outputs": [],
   "source": [
    "## dataset information\n",
    "dataFrame.info()"
   ]
  },
  {
   "cell_type": "code",
   "execution_count": null,
   "id": "97d0ae41",
   "metadata": {},
   "outputs": [],
   "source": [
    "dataFrame.describe()"
   ]
  },
  {
   "cell_type": "markdown",
   "id": "d5c114be",
   "metadata": {},
   "source": [
    "### 4. Check for the presence of the duplicate records in the dataset? If present drop them"
   ]
  },
  {
   "cell_type": "code",
   "execution_count": null,
   "id": "4ef84116",
   "metadata": {},
   "outputs": [],
   "source": [
    "## Cheking for duplicate records\n",
    "len(dataFrame[dataFrame.duplicated()])"
   ]
  },
  {
   "cell_type": "markdown",
   "id": "f45bd768",
   "metadata": {},
   "source": [
    "### 5. Drop the columns which you think redundant for the analysis"
   ]
  },
  {
   "cell_type": "code",
   "execution_count": null,
   "id": "5c5cd2b5",
   "metadata": {},
   "outputs": [],
   "source": [
    "## removing redundant columns\n",
    "dataFrame.drop(['loan_id'],axis=1,inplace=True)"
   ]
  },
  {
   "cell_type": "markdown",
   "id": "0864686a",
   "metadata": {},
   "source": [
    "### 6. Check the percentage of missing values in each column of the data frame. Drop the missing values if there are any"
   ]
  },
  {
   "cell_type": "code",
   "execution_count": null,
   "id": "c14e9a7b",
   "metadata": {},
   "outputs": [],
   "source": [
    "# Finding Missing Value Percentage in each colunms before correcting\n",
    "dataFrame.isnull().sum()/len(dataFrame)*100"
   ]
  },
  {
   "cell_type": "code",
   "execution_count": null,
   "id": "5846e3be",
   "metadata": {},
   "outputs": [],
   "source": [
    "# replacing missing values with the mode\n",
    "dataFrame['gender'].fillna(dataFrame['gender'].mode()[0], inplace=True)\n",
    "dataFrame['married'].fillna(dataFrame['married'].mode()[0], inplace=True)\n",
    "dataFrame['dependents'].fillna(dataFrame['dependents'].mode()[0], inplace=True)\n",
    "dataFrame['self_employed'].fillna(dataFrame['self_employed'].mode()[0], inplace=True)\n",
    "dataFrame['credit_history'].fillna(dataFrame['credit_history'].mode()[0], inplace=True)\n",
    "dataFrame['loan_amount_term'].fillna(dataFrame['loan_amount_term'].mode()[0], inplace=True)\n",
    "dataFrame['loanamount'].fillna(dataFrame['loanamount'].median(), inplace=True)"
   ]
  },
  {
   "cell_type": "code",
   "execution_count": null,
   "id": "20bfa61f",
   "metadata": {},
   "outputs": [],
   "source": [
    "# Finding Missing Value Percentage in each colunms after correcting\n",
    "dataFrame.isnull().sum()/len(dataFrame)*100"
   ]
  },
  {
   "cell_type": "markdown",
   "id": "11c1cb4c",
   "metadata": {},
   "source": [
    "### 7. Encode the categorical columns"
   ]
  },
  {
   "cell_type": "code",
   "execution_count": null,
   "id": "286eb54a",
   "metadata": {},
   "outputs": [],
   "source": [
    "## Label Encoding categorical variables \"gender\", \"married\", \"education\", \"self_employed\",\"property_area\" and\"loan_status\" using label encoder\n",
    "\n",
    "categories = [i for i in dataFrame[[\"gender\", \"married\", \"education\",\"self_employed\",\"property_area\",\"loan_status\"]] if dataFrame.dtypes[i] == object]\n",
    "categories"
   ]
  },
  {
   "cell_type": "code",
   "execution_count": null,
   "id": "63c1d8c6",
   "metadata": {},
   "outputs": [],
   "source": [
    "labelEncoder = LabelEncoder()\n",
    "\n",
    "def encoder(dataFrame):\n",
    "    for i in categories:\n",
    "        q = labelEncoder.fit_transform(dataFrame[i].astype(str))  \n",
    "        dataFrame[i] = q                               \n",
    "        dataFrame[i] = dataFrame[i].astype(int)\n",
    "encoder(dataFrame)"
   ]
  },
  {
   "cell_type": "code",
   "execution_count": null,
   "id": "d295c12c",
   "metadata": {},
   "outputs": [],
   "source": [
    "dataFrame.head()"
   ]
  },
  {
   "cell_type": "code",
   "execution_count": null,
   "id": "2221a340",
   "metadata": {},
   "outputs": [],
   "source": [
    "dataFrame.tail(5)"
   ]
  },
  {
   "cell_type": "markdown",
   "id": "f45ed0c5",
   "metadata": {},
   "source": [
    "### 8. Separate the target and independent features."
   ]
  },
  {
   "cell_type": "code",
   "execution_count": null,
   "id": "5af3fa17",
   "metadata": {},
   "outputs": [],
   "source": [
    "X = dataFrame.drop(['loan_status'],axis=1)\n",
    "Y = dataFrame['loan_status']"
   ]
  },
  {
   "cell_type": "code",
   "execution_count": null,
   "id": "61619e58",
   "metadata": {},
   "outputs": [],
   "source": [
    "X.head()"
   ]
  },
  {
   "cell_type": "code",
   "execution_count": null,
   "id": "db94afd9",
   "metadata": {},
   "outputs": [],
   "source": [
    "Y.head()"
   ]
  },
  {
   "cell_type": "markdown",
   "id": "3b0c6f67",
   "metadata": {},
   "source": [
    "### 9. Split the data into train and test."
   ]
  },
  {
   "cell_type": "code",
   "execution_count": null,
   "id": "9d5e62f0",
   "metadata": {},
   "outputs": [],
   "source": [
    "#Spliting data into training dataSet and testing dataSet\n",
    "X_train,X_test,Y_train,Y_test = train_test_split(X,Y,test_size=0.3,random_state=0)\n",
    "\n",
    "print(X_train.shape,X_test.shape)\n",
    "print(Y_train.shape,Y_test.shape)"
   ]
  },
  {
   "cell_type": "markdown",
   "id": "99e5fbbe",
   "metadata": {},
   "source": [
    "### 10. Build a Random forest Regressor model and check the r2-score for train and test."
   ]
  },
  {
   "cell_type": "code",
   "execution_count": null,
   "id": "8fec8272",
   "metadata": {},
   "outputs": [],
   "source": [
    "# import libraries\n",
    "from sklearn.ensemble import RandomForestRegressor\n",
    "from sklearn.metrics import accuracy_score\n",
    "\n",
    "from sklearn.ensemble import RandomForestRegressor\n",
    "from sklearn.model_selection import train_test_split\n",
    "\n",
    "randomForestRegressor = RandomForestRegressor(n_estimators = 100)\n",
    "randomForestRegressor.fit(X_train,Y_train)"
   ]
  },
  {
   "cell_type": "code",
   "execution_count": null,
   "id": "d8e4ba74",
   "metadata": {},
   "outputs": [],
   "source": [
    "# make prediction\n",
    "from sklearn.metrics import mean_squared_error, r2_score, mean_absolute_error\n",
    "y_train_pred = randomForestRegressor.predict(X_train)\n",
    "y_test_pred = randomForestRegressor.predict(X_test)\n",
    "\n",
    "r2_score_train = r2_score(Y_train,y_train_pred)\n",
    "r2_score_test = r2_score(Y_test,y_test_pred)\n",
    "\n",
    "print('Tain - r2-score:',r2_score_train)\n",
    "print('Test - r2-score',r2_score_test)"
   ]
  },
  {
   "cell_type": "markdown",
   "id": "2dd539df",
   "metadata": {},
   "source": [
    "### 11. Create a pickle file with an extension as .pkl"
   ]
  },
  {
   "cell_type": "code",
   "execution_count": null,
   "id": "fa693068",
   "metadata": {},
   "outputs": [],
   "source": [
    "import pickle\n",
    "\n",
    "pickle.dump(randomForestRegressor, open('modelFile.pkl','wb'))\n",
    "\n",
    "\n",
    "model = pickle.load(open('modelFile.pkl','rb'))"
   ]
  },
  {
   "cell_type": "code",
   "execution_count": null,
   "id": "e8c6bc36",
   "metadata": {},
   "outputs": [],
   "source": []
  }
 ],
 "metadata": {
  "kernelspec": {
   "display_name": "Python 3 (ipykernel)",
   "language": "python",
   "name": "python3"
  },
  "language_info": {
   "codemirror_mode": {
    "name": "ipython",
    "version": 3
   },
   "file_extension": ".py",
   "mimetype": "text/x-python",
   "name": "python",
   "nbconvert_exporter": "python",
   "pygments_lexer": "ipython3",
   "version": "3.9.6"
  }
 },
 "nbformat": 4,
 "nbformat_minor": 5
}
